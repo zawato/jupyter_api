{
 "cells": [
  {
   "cell_type": "code",
   "execution_count": null,
   "id": "e4cbe08f",
   "metadata": {
    "tags": [
     "parameters"
    ]
   },
   "outputs": [],
   "source": [
    "alpha = 0.1\n",
    "ratio = 0.1"
   ]
  },
  {
   "cell_type": "code",
   "execution_count": null,
   "id": "c7a33579",
   "metadata": {},
   "outputs": [],
   "source": [
    "print(alpha)\n",
    "print(ratio)"
   ]
  }
 ],
 "metadata": {
  "celltoolbar": "Tags",
  "kernelspec": {
   "display_name": "Python 3 (ipykernel)",
   "language": "python",
   "name": "python3"
  },
  "language_info": {
   "codemirror_mode": {
    "name": "ipython",
    "version": 3
   },
   "file_extension": ".py",
   "mimetype": "text/x-python",
   "name": "python",
   "nbconvert_exporter": "python",
   "pygments_lexer": "ipython3",
   "version": "3.11.7"
  }
 },
 "nbformat": 4,
 "nbformat_minor": 5
}
